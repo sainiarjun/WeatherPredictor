{
 "cells": [
  {
   "cell_type": "markdown",
   "id": "c4a11e5c",
   "metadata": {},
   "source": [
    "# Weather Prediction App"
   ]
  },
  {
   "cell_type": "code",
   "execution_count": 1,
   "id": "b327556e",
   "metadata": {},
   "outputs": [
    {
     "data": {
      "text/markdown": [
       "# Weather Prediction App"
      ],
      "text/plain": [
       "<IPython.core.display.Markdown object>"
      ]
     },
     "metadata": {},
     "output_type": "display_data"
    },
    {
     "data": {
      "application/vnd.jupyter.widget-view+json": {
       "model_id": "feda4e6fedef4727898e4424df358312",
       "version_major": 2,
       "version_minor": 0
      },
      "text/plain": [
       "DatePicker(value=datetime.datetime(2024, 12, 5, 16, 20, 33, 843405), description='Pick a Date', step=1)"
      ]
     },
     "metadata": {},
     "output_type": "display_data"
    },
    {
     "data": {
      "application/vnd.jupyter.widget-view+json": {
       "model_id": "8d1ccca2a41c4e87b6761351967005c9",
       "version_major": 2,
       "version_minor": 0
      },
      "text/plain": [
       "Button(button_style='primary', description='Get Predictions', style=ButtonStyle())"
      ]
     },
     "metadata": {},
     "output_type": "display_data"
    },
    {
     "data": {
      "application/vnd.jupyter.widget-view+json": {
       "model_id": "92ebdfc77e22464dacd68dea4ec67fe6",
       "version_major": 2,
       "version_minor": 0
      },
      "text/plain": [
       "Output()"
      ]
     },
     "metadata": {},
     "output_type": "display_data"
    },
    {
     "name": "stderr",
     "output_type": "stream",
     "text": [
      "UserWarning: n_quantiles (1000) is greater than the total number of samples (30). n_quantiles is set to n_samples.\n",
      "UserWarning: X does not have valid feature names, but QuantileTransformer was fitted with feature names\n"
     ]
    }
   ],
   "source": [
    "\n",
    "# Import necessary libraries\n",
    "import ipywidgets as widgets\n",
    "from IPython.display import display, Markdown\n",
    "from meteostat import Point, Daily\n",
    "import torch\n",
    "import pandas as pd\n",
    "from sklearn.preprocessing import QuantileTransformer\n",
    "from datetime import datetime, timedelta\n",
    "from dateutil.relativedelta import relativedelta\n",
    "\n",
    "# Title of the app\n",
    "display(Markdown(\"# Weather Prediction App\"))\n",
    "\n",
    "# Input date widget\n",
    "date_picker = widgets.DatePicker(\n",
    "    description=\"Pick a Date\",\n",
    "    disabled=False,\n",
    "    value=datetime.today()\n",
    ")\n",
    "\n",
    "# Button to trigger predictions\n",
    "predict_button = widgets.Button(\n",
    "    description=\"Get Predictions\",\n",
    "    button_style=\"primary\"\n",
    ")\n",
    "\n",
    "# Output area to display results\n",
    "output_area = widgets.Output()\n",
    "\n",
    "# Function to fetch weather data and make predictions\n",
    "def fetch_weather_predictions(date_input):\n",
    "    try:\n",
    "        date_object = datetime.strptime(str(date_input), \"%Y-%m-%d\")\n",
    "    except ValueError:\n",
    "        output_area.clear_output()\n",
    "        with output_area:\n",
    "            display(Markdown(\"**Error:** Invalid date format. Please use YYYY-MM-DD.\"))\n",
    "        return\n",
    "    \n",
    "    previous_day = date_object - timedelta(days=1)\n",
    "    date_one_month_ago = date_object - relativedelta(months=1)\n",
    "    end = datetime(previous_day.year, previous_day.month, previous_day.day)\n",
    "    start = datetime(date_one_month_ago.year, date_one_month_ago.month, date_one_month_ago.day)\n",
    "\n",
    "    # Location (New York City)\n",
    "    location = Point(40.7128, -74.0060)\n",
    "    \n",
    "    # Fetch data from Meteostat API\n",
    "    input_data = Daily(location, start, end)\n",
    "    input_data = input_data.fetch()\n",
    "    input_data = pd.DataFrame(input_data)\n",
    "    \n",
    "    # Preprocessing\n",
    "    input_data.drop(['wpgt', 'tsun', 'wdir'], axis=1, inplace=True)\n",
    "    input_data.fillna(0, inplace=True)\n",
    "    input_data.replace([float('inf'), -float('inf')], 0, inplace=True)\n",
    "\n",
    "    # Load the model\n",
    "    model = torch.jit.load('model_scripted.pt')\n",
    "    model.eval()\n",
    "    device = torch.device(\"cuda\" if torch.cuda.is_available() else \"cpu\")\n",
    "    model.to(device)\n",
    "\n",
    "    # Scaling the input data\n",
    "    scaler = QuantileTransformer(output_distribution='uniform')\n",
    "    input_data_scaled = scaler.fit_transform(input_data)\n",
    "    input_data_scaled = input_data_scaled[-30:]\n",
    "    input_data_scaled = torch.tensor(input_data_scaled).view(1, 30, 7).float()\n",
    "    input_data_scaled = input_data_scaled.to(device)\n",
    "\n",
    "    # Make predictions\n",
    "    with torch.no_grad():\n",
    "        predictions = model(input_data_scaled)\n",
    "    predictions_rescaled = predictions.cpu().numpy()\n",
    "    predictions_rescaled = scaler.inverse_transform(predictions.cpu().numpy().reshape(-1, input_data.shape[1]))\n",
    "\n",
    "    result = dict(zip(input_data.columns, predictions_rescaled[0]))\n",
    "    legend = {\n",
    "        'tavg': \"Avg Temp in °C\",\n",
    "        'tmin': 'Min Temp in °C',\n",
    "        'tmax': 'Max Temp in °C',\n",
    "        'prcp': 'Precipitation in mm',\n",
    "        'snow': 'Snow in mm',\n",
    "        'wspd': 'Windspeed in km/h',\n",
    "        'pres': 'Atmospheric Pressure in hPa'\n",
    "    }\n",
    "\n",
    "    return result, legend\n",
    "\n",
    "# Callback function to display results\n",
    "def on_predict_button_clicked(b):\n",
    "    output_area.clear_output()\n",
    "    date_input = date_picker.value\n",
    "    if not date_input:\n",
    "        with output_area:\n",
    "            display(Markdown(\"**Error:** Please select a valid date.\"))\n",
    "        return\n",
    "    \n",
    "    result, legend = fetch_weather_predictions(date_input)\n",
    "    with output_area:\n",
    "        display(Markdown(f\"## Weather Predictions for {date_input}\"))\n",
    "        for key, value in result.items():\n",
    "            display(Markdown(f\"- **{legend[key]}:** {value:.2f}\"))\n",
    "\n",
    "# Attach the callback to the button\n",
    "predict_button.on_click(on_predict_button_clicked)\n",
    "\n",
    "# Display widgets\n",
    "display(date_picker, predict_button, output_area)\n"
   ]
  }
 ],
 "metadata": {
  "kernelspec": {
   "display_name": "ml",
   "language": "python",
   "name": "python3"
  },
  "language_info": {
   "codemirror_mode": {
    "name": "ipython",
    "version": 3
   },
   "file_extension": ".py",
   "mimetype": "text/x-python",
   "name": "python",
   "nbconvert_exporter": "python",
   "pygments_lexer": "ipython3",
   "version": "3.11.2"
  }
 },
 "nbformat": 4,
 "nbformat_minor": 5
}
