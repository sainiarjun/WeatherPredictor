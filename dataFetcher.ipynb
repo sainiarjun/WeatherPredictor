{
 "cells": [
  {
   "cell_type": "code",
   "execution_count": null,
   "metadata": {},
   "outputs": [],
   "source": [
    "from meteostat import Point,Daily\n",
    "from datetime import datetime\n",
    "import pandas as pd\n",
    "#what"
   ]
  },
  {
   "cell_type": "code",
   "execution_count": 10,
   "metadata": {},
   "outputs": [],
   "source": [
    "start=datetime(1973,1,1)\n",
    "end=datetime(2024,10,31)"
   ]
  },
  {
   "cell_type": "code",
   "execution_count": 11,
   "metadata": {},
   "outputs": [
    {
     "name": "stdout",
     "output_type": "stream",
     "text": [
      "            tavg  tmin  tmax  prcp  snow   wdir  wspd  wpgt    pres  tsun\n",
      "time                                                                     \n",
      "1973-01-01  13.5   6.1  17.2   0.0   0.0  224.0  20.9   NaN  1015.9   NaN\n",
      "1973-01-02   3.5  -0.6   6.7   0.0   0.0  278.0  21.3   NaN  1022.9   NaN\n",
      "1973-01-03   0.6  -2.2   2.8   0.3   0.0  213.0  10.7   NaN  1032.0   NaN\n",
      "1973-01-04   6.6   1.1   9.4  17.5   0.0  255.0  16.4   NaN  1013.5   NaN\n",
      "1973-01-05   4.5   1.1   5.6   0.0   0.0  269.0  20.7   NaN  1013.1   NaN\n"
     ]
    }
   ],
   "source": [
    "location = Point(40.7128, -74.0060)\n",
    "newData=Daily(location,start,end)\n",
    "newData=newData.fetch()\n",
    "print(newData.head())\n",
    "newData.to_csv('newYork.csv')\n"
   ]
  },
  {
   "cell_type": "code",
   "execution_count": 12,
   "metadata": {},
   "outputs": [],
   "source": [
    "# existingData=pd.read_csv('newYork.csv')\n",
    "# newData=pd.read_csv('newYorkNew.csv')\n",
    "# combinedData=pd.concat([existingData,newData],ignore_index=True)\n",
    "# combinedData.to_csv('newYork.csv',index=False)\n",
    "# print(combinedData)"
   ]
  }
 ],
 "metadata": {
  "kernelspec": {
   "display_name": "ml",
   "language": "python",
   "name": "python3"
  },
  "language_info": {
   "codemirror_mode": {
    "name": "ipython",
    "version": 3
   },
   "file_extension": ".py",
   "mimetype": "text/x-python",
   "name": "python",
   "nbconvert_exporter": "python",
   "pygments_lexer": "ipython3",
   "version": "3.11.2"
  }
 },
 "nbformat": 4,
 "nbformat_minor": 2
}
